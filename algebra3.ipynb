{
  "nbformat": 4,
  "nbformat_minor": 0,
  "metadata": {
    "colab": {
      "name": "algebra3.ipynb",
      "provenance": [],
      "collapsed_sections": [],
      "include_colab_link": true
    },
    "kernelspec": {
      "name": "python3",
      "display_name": "Python 3"
    },
    "accelerator": "GPU"
  },
  "cells": [
    {
      "cell_type": "markdown",
      "metadata": {
        "id": "view-in-github",
        "colab_type": "text"
      },
      "source": [
        "<a href=\"https://colab.research.google.com/github/romanzes637/algebra/blob/master/algebra3.ipynb\" target=\"_parent\"><img src=\"https://colab.research.google.com/assets/colab-badge.svg\" alt=\"Open In Colab\"/></a>"
      ]
    },
    {
      "cell_type": "code",
      "metadata": {
        "id": "-L4H4QYQ1zNu",
        "colab_type": "code",
        "outputId": "64da337e-c4bf-4ee9-ef9d-5da929257317",
        "colab": {
          "base_uri": "https://localhost:8080/",
          "height": 34
        }
      },
      "source": [
        "%tensorflow_version 2.x\n",
        "\n",
        "import tensorflow as tf\n",
        "tf.debugging.set_log_device_placement(True)"
      ],
      "execution_count": 0,
      "outputs": [
        {
          "output_type": "stream",
          "text": [
            "TensorFlow 2.x selected.\n"
          ],
          "name": "stdout"
        }
      ]
    },
    {
      "cell_type": "code",
      "metadata": {
        "id": "GUGhVylN_gbc",
        "colab_type": "code",
        "outputId": "75f3ece9-ff0f-4eb2-d001-0ad6142fda31",
        "colab": {
          "base_uri": "https://localhost:8080/",
          "height": 629
        }
      },
      "source": [
        "import numpy as np\n",
        "import functools \n",
        "\n",
        "\n",
        "# with tf.device('/GPU:0'):\n",
        "# with tf.device('/CPU:0'):\n",
        "np.random.seed(0)\n",
        "tf.random.set_seed(0)\n",
        "n = 20000\n",
        "m = 100\n",
        "x1 = []\n",
        "x2 = []\n",
        "y = []\n",
        "for j in range(n):\n",
        "   a = np.random.randint(-m, m)\n",
        "   b = np.random.randint(-m, m)\n",
        "  #  c = a*b\n",
        "  #  c = a + b\n",
        "   dx1 = np.random.randint(0, m)\n",
        "   dx2 = np.random.randint(0, m)\n",
        "   dy = np.random.randint(0, m)\n",
        "  #  x1.append([a, 0]) if a >= 0 else x1.append([0, abs(a)])\n",
        "  #  x2.append([b, 0]) if b >= 0 else x2.append([0, abs(b)])\n",
        "  #  y.append([c, 0]) if c >= 0 else y.append([0, abs(c)])\n",
        "   x1.append([a+dx1, dx1]) if a >= 0 else x1.append([dx1, abs(a)+dx1])\n",
        "   x2.append([b+dx2, dx2]) if b >= 0 else x2.append([dx2, abs(b)+dx2])\n",
        "  #  y.append([x1[-1][0]*x2[-1][0] + x1[-1][1]*x2[-1][1], \n",
        "  #            x1[-1][0]*x2[-1][1] + x1[-1][1]*x2[-1][0]]) \n",
        "   y.append([x1[-1][0] + x2[-1][0], x1[-1][1] + x2[-1][1]])  # - + - = -, + + + = +\n",
        "  #  y.append([x1[-1][1] + x2[-1][1], x1[-1][0] + x2[-1][0]])  # - + - = +, + + + = -\n",
        "  #  y.append([c+dy, dy]) if c >= 0 else y.append([dy, abs(c)+dy])\n",
        "print(x1[0], x2[0], y[0])\n",
        "\n",
        "# w = tf.random.uniform((16, 2), minval=0, maxval=2, dtype=tf.int32)\n",
        "w = tf.ones((16, 2), dtype=tf.int32)\n",
        "# w = tf.constant([\n",
        "#                 [0, 0],\n",
        "#                 [0, 0],\n",
        "#                 [0, 0],\n",
        "#                 [0, 0],\n",
        "#                 [0, 0],\n",
        "#                 [1, 0],\n",
        "#                 [0, 1],\n",
        "#                 [0, 0],\n",
        "#                 [0, 0],\n",
        "#                 [0, 1],\n",
        "#                 [1, 0],\n",
        "#                 [0, 0],\n",
        "#                 [0, 0],\n",
        "#                 [0, 0],\n",
        "#                 [0, 0],\n",
        "#                 [0, 0]])\n",
        "# w = tf.constant([\n",
        "#                  [0, 0],\n",
        "#                  [1, 0],\n",
        "#                  [0, 1],\n",
        "#                  [0, 0],\n",
        "#                  [1, 0],\n",
        "#                  [0, 0],\n",
        "#                  [0, 0],\n",
        "#                  [0, 0],\n",
        "#                  [0, 1],\n",
        "#                  [0, 0],\n",
        "#                  [0, 0],\n",
        "#                  [0, 0],\n",
        "#                  [0, 0],\n",
        "#                  [0, 0],\n",
        "#                  [0, 0],\n",
        "#                  [0, 0]\n",
        "# ])\n",
        "adw = tf.ones_like(w)\n",
        "# for j in range(4):\n",
        "for i in range(n):\n",
        "  a = tf.constant(functools.reduce(lambda x, y: x + [z*y for z in x], x1[i] + x2[i], [1]))\n",
        "  t = tf.constant(y[i])\n",
        "  z = tf.einsum('ij,i->j', w, a)  # only on CPU, because GPU doesn't have int kernel\n",
        "  # z = tf.linalg.matvec(w, a, transpose_a=True)\n",
        "  s = t + tf.reverse(z, axis=[0])\n",
        "  if tf.math.is_strictly_increasing(s):\n",
        "    loss = tf.constant([0, 1])\n",
        "  elif tf.math.is_non_decreasing(s):\n",
        "    loss = tf.constant([0, 0])\n",
        "  else:\n",
        "    loss = tf.constant([1, 0])\n",
        "  a = tf.clip_by_value(a, clip_value_min=0, clip_value_max=1)\n",
        "  dw = tf.einsum('i,j->ij', a, loss)  # only on CPU, because GPU doesn't have int kernel\n",
        "  adw += dw\n",
        "  # w += dw\n",
        "print(adw)\n",
        "print(adw[:,0] - adw[:,1])\n",
        "# print(w)"
      ],
      "execution_count": 0,
      "outputs": [
        {
          "output_type": "stream",
          "text": [
            "[136, 64] [67, 120] [203, 184]\n",
            "Executing op Fill in device /job:localhost/replica:0/task:0/device:GPU:0\n",
            "Executing op Shape in device /job:localhost/replica:0/task:0/device:GPU:0\n",
            "Executing op Einsum in device /job:localhost/replica:0/task:0/device:CPU:0\n",
            "Executing op ReverseV2 in device /job:localhost/replica:0/task:0/device:GPU:0\n",
            "Executing op AddV2 in device /job:localhost/replica:0/task:0/device:GPU:0\n",
            "Executing op Reshape in device /job:localhost/replica:0/task:0/device:GPU:0\n",
            "Executing op Less in device /job:localhost/replica:0/task:0/device:GPU:0\n",
            "Executing op Sub in device /job:localhost/replica:0/task:0/device:GPU:0\n",
            "Executing op StridedSlice in device /job:localhost/replica:0/task:0/device:GPU:0\n",
            "Executing op All in device /job:localhost/replica:0/task:0/device:GPU:0\n",
            "Executing op LessEqual in device /job:localhost/replica:0/task:0/device:GPU:0\n",
            "Executing op Minimum in device /job:localhost/replica:0/task:0/device:GPU:0\n",
            "Executing op Maximum in device /job:localhost/replica:0/task:0/device:GPU:0\n",
            "Executing op Einsum in device /job:localhost/replica:0/task:0/device:CPU:0\n",
            "tf.Tensor(\n",
            "[[ 9875 10018]\n",
            " [ 9853  9951]\n",
            " [ 9789  9996]\n",
            " [ 9767  9930]\n",
            " [ 9853  9940]\n",
            " [ 9831  9873]\n",
            " [ 9767  9918]\n",
            " [ 9745  9852]\n",
            " [ 9788 10000]\n",
            " [ 9766  9933]\n",
            " [ 9703  9978]\n",
            " [ 9681  9912]\n",
            " [ 9768  9922]\n",
            " [ 9746  9855]\n",
            " [ 9683  9900]\n",
            " [ 9661  9834]], shape=(16, 2), dtype=int32)\n",
            "Executing op StridedSlice in device /job:localhost/replica:0/task:0/device:GPU:0\n",
            "tf.Tensor(\n",
            "[-143  -98 -207 -163  -87  -42 -151 -107 -212 -167 -275 -231 -154 -109\n",
            " -217 -173], shape=(16,), dtype=int32)\n"
          ],
          "name": "stdout"
        }
      ]
    },
    {
      "cell_type": "code",
      "metadata": {
        "id": "KisoWWle2wF1",
        "colab_type": "code",
        "colab": {}
      },
      "source": [
        "# with tf.device('/GPU:0'):\n",
        "# with tf.device('/CPU:0'):\n",
        "a = tf.constant([0., 1.])\n",
        "w = tf.Variable([[1., 1.],\n",
        "                 [1., 1.]])\n",
        "t = tf.constant([1., 0.])\n",
        "for i in range(1000):\n",
        "  with tf.GradientTape() as tape:\n",
        "    z = tf.einsum('ij,j->i', w, a)\n",
        "    loss = t - z\n",
        "  dl_dw = tape.gradient(loss, w)\n",
        "  dw = tf.einsum('ij,i->ij', dl_dw, loss)\n",
        "  w.assign_sub(0.01*dw)\n",
        "  if i % 250 == 0:\n",
        "    print(dw)\n",
        "    print(w)\n",
        "    print(dt_dw)\n",
        "    print(t)\n",
        "    print(z)\n",
        "    print(loss)\n",
        "w = tf.constant([[0., 0.],\n",
        "                 [1., 0.],\n",
        "                 [0., 1.]])\n",
        "\n",
        "a = tf.constant([1., 2., 3.])\n",
        "print(tf.einsum('ij,i->j', w, a))\n",
        "print(tf.einsum('ij,j->i', tf.transpose(w), a))"
      ],
      "execution_count": 0,
      "outputs": []
    },
    {
      "cell_type": "markdown",
      "metadata": {
        "id": "ODXlKb563zUv",
        "colab_type": "text"
      },
      "source": [
        "# powerset"
      ]
    },
    {
      "cell_type": "code",
      "metadata": {
        "id": "10fag08rz3Je",
        "colab_type": "code",
        "outputId": "6046d2cd-8155-4cb3-b662-30f2febaa4df",
        "colab": {
          "base_uri": "https://localhost:8080/",
          "height": 418
        }
      },
      "source": [
        "import functools\n",
        "import numpy as np\n",
        "import time\n",
        "from itertools import chain, combinations, accumulate\n",
        "import operator\n",
        "\n",
        "n = 20  # n = 27 - limit, 14 - errors in tensorflow\n",
        "\n",
        "print('python + numpy')\n",
        "t0 = time.time()\n",
        "s = np.arange(0, n, 1)\n",
        "m0 = np.array([[x // 2**y % 2 for y in range(n)] for x in range(2**n)])\n",
        "# m1 = np.array([[(x // 2**y + 1) % 2 for y in range(n)] for x in range(2**n)])\n",
        "# m1 = np.logical_not(m0).astype(np.int)\n",
        "m1 = np.ones_like(m0) - m0\n",
        "ps = np.einsum('ij,j->ij', m0, s)\n",
        "ps1 = ps + m1\n",
        "pps = np.prod(ps1, axis=1)\n",
        "print(time.time() - t0)\n",
        "print(pps[:4], pps[-4:], len(pps), pps.dtype)\n",
        "\n",
        "print('python')\n",
        "t0 = time.time()\n",
        "s = [x for x in range(n)]\n",
        "pps = functools.reduce(lambda x, y: x + [z*y for z in x], s, [1])\n",
        "print(time.time() - t0)\n",
        "print(pps[:4], pps[-4:], len(pps), type(pps[0]))\n",
        "\n",
        "print('python itertools, different order!')\n",
        "t0 = time.time()\n",
        "s = [x for x in range(n)]\n",
        "pps = [1] + [list(accumulate(c, operator.mul))[-1] \n",
        "                  for r in range(1, len(s) + 1) \n",
        "                  for c in combinations(s, r)]  # TODO add initial [1] py 3.8+\n",
        "print(time.time() - t0)\n",
        "print(pps[:4], pps[-4:], len(pps), type(pps[0]))\n",
        "\n",
        "print('python + tensorflow')\n",
        "t0 = time.time()\n",
        "s = tf.constant([x for x in range(n)])\n",
        "m0 = tf.constant([[x // 2**y % 2 for y in range(n)] for x in range(2**n)])\n",
        "# m1 = tf.constant([[(x // 2**y + 1) % 2 for y in range(n)] for x in range(2**n)])\n",
        "# m1 = tf.logical_not(m0).dtype(tf.int32)\n",
        "m1 = tf.ones_like(m0) - m0\n",
        "ps = tf.einsum('ij,j->ij', m0, s)\n",
        "ps1 = ps + m1\n",
        "pps = tf.reduce_prod(ps1, axis=1)\n",
        "print(time.time() - t0)\n",
        "print(pps)"
      ],
      "execution_count": 41,
      "outputs": [
        {
          "output_type": "stream",
          "text": [
            "python + numpy\n",
            "10.014102935791016\n",
            "[1 0 1 0] [121645100408832000                  0 121645100408832000\n",
            "                  0] 1048576 int64\n",
            "python\n",
            "0.07720327377319336\n",
            "[1, 0, 1, 0] [121645100408832000, 0, 121645100408832000, 0] 1048576 <class 'int'>\n",
            "python itertools, different order!\n",
            "1.2571401596069336\n",
            "[1, 0, 1, 2] [0, 0, 121645100408832000, 0] 1048576 <class 'int'>\n",
            "python + tensorflow\n"
          ],
          "name": "stdout"
        },
        {
          "output_type": "error",
          "ename": "NameError",
          "evalue": "ignored",
          "traceback": [
            "\u001b[0;31m---------------------------------------------------------------------------\u001b[0m",
            "\u001b[0;31mNameError\u001b[0m                                 Traceback (most recent call last)",
            "\u001b[0;32m<ipython-input-41-540141e0418f>\u001b[0m in \u001b[0;36m<module>\u001b[0;34m()\u001b[0m\n\u001b[1;32m     38\u001b[0m \u001b[0mprint\u001b[0m\u001b[0;34m(\u001b[0m\u001b[0;34m'python + tensorflow'\u001b[0m\u001b[0;34m)\u001b[0m\u001b[0;34m\u001b[0m\u001b[0;34m\u001b[0m\u001b[0m\n\u001b[1;32m     39\u001b[0m \u001b[0mt0\u001b[0m \u001b[0;34m=\u001b[0m \u001b[0mtime\u001b[0m\u001b[0;34m.\u001b[0m\u001b[0mtime\u001b[0m\u001b[0;34m(\u001b[0m\u001b[0;34m)\u001b[0m\u001b[0;34m\u001b[0m\u001b[0;34m\u001b[0m\u001b[0m\n\u001b[0;32m---> 40\u001b[0;31m \u001b[0ms\u001b[0m \u001b[0;34m=\u001b[0m \u001b[0mtf\u001b[0m\u001b[0;34m.\u001b[0m\u001b[0mconstant\u001b[0m\u001b[0;34m(\u001b[0m\u001b[0;34m[\u001b[0m\u001b[0mx\u001b[0m \u001b[0;32mfor\u001b[0m \u001b[0mx\u001b[0m \u001b[0;32min\u001b[0m \u001b[0mrange\u001b[0m\u001b[0;34m(\u001b[0m\u001b[0mn\u001b[0m\u001b[0;34m)\u001b[0m\u001b[0;34m]\u001b[0m\u001b[0;34m)\u001b[0m\u001b[0;34m\u001b[0m\u001b[0;34m\u001b[0m\u001b[0m\n\u001b[0m\u001b[1;32m     41\u001b[0m \u001b[0mm0\u001b[0m \u001b[0;34m=\u001b[0m \u001b[0mtf\u001b[0m\u001b[0;34m.\u001b[0m\u001b[0mconstant\u001b[0m\u001b[0;34m(\u001b[0m\u001b[0;34m[\u001b[0m\u001b[0;34m[\u001b[0m\u001b[0mx\u001b[0m \u001b[0;34m//\u001b[0m \u001b[0;36m2\u001b[0m\u001b[0;34m**\u001b[0m\u001b[0my\u001b[0m \u001b[0;34m%\u001b[0m \u001b[0;36m2\u001b[0m \u001b[0;32mfor\u001b[0m \u001b[0my\u001b[0m \u001b[0;32min\u001b[0m \u001b[0mrange\u001b[0m\u001b[0;34m(\u001b[0m\u001b[0mn\u001b[0m\u001b[0;34m)\u001b[0m\u001b[0;34m]\u001b[0m \u001b[0;32mfor\u001b[0m \u001b[0mx\u001b[0m \u001b[0;32min\u001b[0m \u001b[0mrange\u001b[0m\u001b[0;34m(\u001b[0m\u001b[0;36m2\u001b[0m\u001b[0;34m**\u001b[0m\u001b[0mn\u001b[0m\u001b[0;34m)\u001b[0m\u001b[0;34m]\u001b[0m\u001b[0;34m)\u001b[0m\u001b[0;34m\u001b[0m\u001b[0;34m\u001b[0m\u001b[0m\n\u001b[1;32m     42\u001b[0m \u001b[0;31m# m1 = tf.constant([[(x // 2**y + 1) % 2 for y in range(n)] for x in range(2**n)])\u001b[0m\u001b[0;34m\u001b[0m\u001b[0;34m\u001b[0m\u001b[0;34m\u001b[0m\u001b[0m\n",
            "\u001b[0;31mNameError\u001b[0m: name 'tf' is not defined"
          ]
        }
      ]
    },
    {
      "cell_type": "markdown",
      "metadata": {
        "id": "3Y0bSC7yKa-H",
        "colab_type": "text"
      },
      "source": [
        "## powerset layer"
      ]
    },
    {
      "cell_type": "code",
      "metadata": {
        "id": "DQH4pXP7HOsa",
        "colab_type": "code",
        "colab": {
          "base_uri": "https://localhost:8080/",
          "height": 221
        },
        "outputId": "b82316ad-06f6-4ed4-8cc8-3c5c5712c3a0"
      },
      "source": [
        "import time\n",
        "import functools  # https://docs.python.org/3/library/functools.html\n",
        "import operator  # see https://docs.python.org/3/library/operator.html\n",
        "import itertools  # see https://docs.python.org/3/library/itertools.html\n",
        "\n",
        "n = 12  # n > 25 works only with itertools, n < 12 works fast\n",
        "s = [x for x in range(n)]\n",
        "min_len = 0\n",
        "max_len = n\n",
        "lens = [x for x in range(min_len, max_len + 1)]\n",
        "# lens = [0, 1, 2]\n",
        "\n",
        "if n <= 12:\n",
        "  print('python')\n",
        "  t0 = time.time()\n",
        "  # max and min len\n",
        "  # ps = list(filter(lambda x: min_len <= len(x) <= max_len, \n",
        "  #                  functools.reduce(lambda x, y: x + [z + [y] for z in x], s, [[]])))\n",
        "  # len in lens\n",
        "  ps = list(filter(lambda x: len(x) in lens,\n",
        "                  functools.reduce(lambda x, y: x + [z + [y] for z in x], s, [[]])))\n",
        "  # mul\n",
        "  ps_mul = [functools.reduce(operator.mul, z, 1) for z in ps]\n",
        "  # pow and add, set 1 to empty set (bias)\n",
        "  if min_len == 0 or 0 in lens:\n",
        "    ps_pow = [1] + [functools.reduce(operator.pow, z) for z in ps[1:]]\n",
        "    ps_add = [1] + [functools.reduce(operator.add, z) for z in ps[1:]]\n",
        "  else:\n",
        "    ps_pow = [functools.reduce(operator.pow, z) for z in ps]\n",
        "    ps_add = [functools.reduce(operator.add, z) for z in ps]\n",
        "  print(time.time() - t0)\n",
        "  # print(ps)\n",
        "  # print(ps_mul)\n",
        "  # print(ps_add)\n",
        "  # print(ps_pow)\n",
        "  print(len(ps))\n",
        "  print(len(ps_mul))\n",
        "  print(len(ps_add))\n",
        "  print(len(ps_pow))\n",
        "\n",
        "print('python itertools')\n",
        "t0 = time.time()\n",
        "# powerset\n",
        "ps = list(itertools.chain.from_iterable(itertools.combinations(s, x) for x in lens))\n",
        "# mul\n",
        "ps_mul = list(functools.reduce(operator.mul, y, 1) for x in lens for y in itertools.combinations(s, x))\n",
        "# add\n",
        "ps_add = list(functools.reduce(operator.add, y, 0) for x in lens for y in itertools.combinations(s, x))\n",
        "if 0 in lens:  # empty set (bias)\n",
        "  ps_add[0] = 1\n",
        "# pow\n",
        "if 0 in lens:  # because pow operator with initial value 1 returns 1 and 0 returns 0\n",
        "  lens.remove(0)\n",
        "ps_pow = list(functools.reduce(operator.pow, y) for x in lens for y in itertools.combinations(s, x))\n",
        "ps_pow = [1] + ps_pow\n",
        "print(time.time() - t0)\n",
        "# print(ps)\n",
        "# print(ps_mul)\n",
        "# print(ps_add)\n",
        "# print(ps_pow)\n",
        "print(len(ps))\n",
        "print(len(ps_mul))\n",
        "print(len(ps_add))\n",
        "print(len(ps_pow))"
      ],
      "execution_count": 17,
      "outputs": [
        {
          "output_type": "stream",
          "text": [
            "python\n",
            "4.455255508422852\n",
            "4096\n",
            "4096\n",
            "4096\n",
            "4096\n",
            "python itertools\n",
            "4.34265398979187\n",
            "4096\n",
            "4096\n",
            "4096\n",
            "4096\n"
          ],
          "name": "stdout"
        }
      ]
    },
    {
      "cell_type": "code",
      "metadata": {
        "id": "p0BsGwDveuCq",
        "colab_type": "code",
        "colab": {}
      },
      "source": [
        ""
      ],
      "execution_count": 0,
      "outputs": []
    }
  ]
}